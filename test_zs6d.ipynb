{
 "cells": [
  {
   "cell_type": "code",
   "execution_count": 1,
   "metadata": {},
   "outputs": [
    {
     "name": "stderr",
     "output_type": "stream",
     "text": [
      "/home/philipp/anaconda3/envs/zs6d/lib/python3.9/site-packages/tqdm/auto.py:21: TqdmWarning: IProgress not found. Please update jupyter and ipywidgets. See https://ipywidgets.readthedocs.io/en/stable/user_install.html\n",
      "  from .autonotebook import tqdm as notebook_tqdm\n",
      "Using cache found in /home/philipp/.cache/torch/hub/facebookresearch_dino_main\n",
      "100%|██████████| 13/13 [00:06<00:00,  1.93it/s]"
     ]
    },
    {
     "name": "stdout",
     "output_type": "stream",
     "text": [
      "Preparing templates and loading of extractor is done!\n"
     ]
    },
    {
     "name": "stderr",
     "output_type": "stream",
     "text": [
      "\n"
     ]
    }
   ],
   "source": [
    "from zs6d import ZS6D\n",
    "import os\n",
    "import json\n",
    "\n",
    "with open(os.path.join(\"./dino_pose_configs/cfg_lmo_inference_bop.json\"), \"r\") as f:\n",
    "    config = json.load(f)\n",
    "    \n",
    "\n",
    "pose_estimator = ZS6D(config['templates_gt_path'], config['norm_factor_path'])"
   ]
  },
  {
   "cell_type": "code",
   "execution_count": 2,
   "metadata": {},
   "outputs": [],
   "source": [
    "with open(os.path.join(config['gt_path']), 'r') as f:\n",
    "    data_gt = json.load(f)"
   ]
  },
  {
   "cell_type": "code",
   "execution_count": 3,
   "metadata": {},
   "outputs": [
    {
     "name": "stdout",
     "output_type": "stream",
     "text": [
      "Preparing: 0.8863692283630371\n",
      "matching: 0.09585213661193848\n",
      "running k-means on cuda..\n"
     ]
    },
    {
     "name": "stderr",
     "output_type": "stream",
     "text": [
      "[running kmeans]: 1it [00:00, 507.17it/s, center_shift=0.000000, iteration=1, tol=0.000100]"
     ]
    },
    {
     "name": "stdout",
     "output_type": "stream",
     "text": [
      "Size: 74\n",
      "local correpondences: 1.0089409351348877\n",
      "Error while local correspondence matching\n",
      "Pose estimation time: 1.9917280673980713\n",
      "R_est: None\n",
      "t_est: None\n",
      "Preparing: 0.04976773262023926\n",
      "matching: 0.08985424041748047\n"
     ]
    },
    {
     "name": "stderr",
     "output_type": "stream",
     "text": [
      "\n"
     ]
    },
    {
     "name": "stdout",
     "output_type": "stream",
     "text": [
      "running k-means on cuda..\n"
     ]
    },
    {
     "name": "stderr",
     "output_type": "stream",
     "text": [
      "[running kmeans]: 15it [00:00, 44.77it/s, center_shift=0.000000, iteration=15, tol=0.000100]\n"
     ]
    },
    {
     "name": "stdout",
     "output_type": "stream",
     "text": [
      "Size: 90\n",
      "local correpondences: 1.3580594062805176\n",
      "Error while local correspondence matching\n",
      "Pose estimation time: 1.498225450515747\n",
      "R_est: None\n",
      "t_est: None\n",
      "Preparing: 0.04832863807678223\n",
      "matching: 0.08923172950744629\n",
      "running k-means on cuda..\n"
     ]
    },
    {
     "name": "stderr",
     "output_type": "stream",
     "text": [
      "[running kmeans]: 5it [00:00, 46.57it/s, center_shift=0.000000, iteration=5, tol=0.000100]"
     ]
    },
    {
     "name": "stdout",
     "output_type": "stream",
     "text": [
      "Size: 62\n",
      "local correpondences: 1.1119835376739502\n",
      "Error while local correspondence matching\n",
      "Pose estimation time: 1.2501273155212402\n",
      "R_est: None\n",
      "t_est: None\n"
     ]
    },
    {
     "name": "stderr",
     "output_type": "stream",
     "text": [
      "\n"
     ]
    },
    {
     "name": "stdout",
     "output_type": "stream",
     "text": [
      "Preparing: 0.04946732521057129\n",
      "matching: 0.09186959266662598\n",
      "running k-means on cuda..\n"
     ]
    },
    {
     "name": "stderr",
     "output_type": "stream",
     "text": [
      "[running kmeans]: 11it [00:00, 48.73it/s, center_shift=0.000000, iteration=11, tol=0.000100]\n"
     ]
    },
    {
     "name": "stdout",
     "output_type": "stream",
     "text": [
      "Size: 91\n",
      "local correpondences: 1.2754464149475098\n",
      "Error while local correspondence matching\n",
      "Pose estimation time: 1.4174065589904785\n",
      "R_est: None\n",
      "t_est: None\n",
      "Preparing: 0.04972648620605469\n",
      "matching: 0.08923006057739258\n",
      "running k-means on cuda..\n"
     ]
    },
    {
     "name": "stderr",
     "output_type": "stream",
     "text": [
      "[running kmeans]: 5it [00:00, 58.07it/s, center_shift=0.000000, iteration=5, tol=0.000100]"
     ]
    },
    {
     "name": "stdout",
     "output_type": "stream",
     "text": [
      "Size: 58\n",
      "local correpondences: 1.1829650402069092\n",
      "Error while local correspondence matching\n",
      "Pose estimation time: 1.3224623203277588\n",
      "R_est: None\n",
      "t_est: None\n"
     ]
    },
    {
     "name": "stderr",
     "output_type": "stream",
     "text": [
      "\n"
     ]
    }
   ],
   "source": [
    "import cv2\n",
    "from PIL import Image\n",
    "import pose_utils.img_utils as img_utils\n",
    "import numpy as np\n",
    "import time\n",
    "\n",
    "img_id = '3'\n",
    "# obj_number = 1\n",
    "\n",
    "for i in range(5):\n",
    "    obj_number = i\n",
    "\n",
    "    obj_name = data_gt[img_id][obj_number]['obj_name']\n",
    "    obj_id = data_gt[img_id][obj_number]['obj_id']\n",
    "    cam_K = np.array(data_gt[img_id][obj_number]['cam_K']).reshape((3,3))\n",
    "    bbox = data_gt[img_id][obj_number]['bbox_visib']\n",
    "\n",
    "    img_path = os.path.join(config['dataset_path'], data_gt[img_id][obj_number]['img_name'].split(\"./\")[-1])\n",
    "    img = Image.open(img_path)\n",
    "\n",
    "    mask = data_gt[img_id][obj_number]['mask_sam']\n",
    "    mask = img_utils.rle_to_mask(mask)\n",
    "    mask = mask.astype(np.uint8)\n",
    "\n",
    "    start_time = time.time()\n",
    "\n",
    "    R_est, t_est = pose_estimator.get_pose(img, obj_name, obj_id, mask, cam_K, bbox=None)\n",
    "\n",
    "    end_time = time.time()\n",
    "\n",
    "    print(f\"Pose estimation time: {end_time-start_time}\")\n",
    "    print(f\"R_est: {R_est}\")\n",
    "    print(f\"t_est: {t_est}\")\n",
    "\n",
    "\n"
   ]
  },
  {
   "cell_type": "code",
   "execution_count": 4,
   "metadata": {},
   "outputs": [
    {
     "name": "stdout",
     "output_type": "stream",
     "text": [
      "[{'scene_id': '000002', 'obj_name': 'ape', 'obj_id': 1, 'bbox_obj': [388, 164, 34, 45], 'bbox_visib': [401, 164, 20, 33], 'img_name': './test/000002/rgb/000003.png', 'cam_R_m2c': [0.87547542, 0.47867615, -0.06858282, 0.3746311, -0.76110463, -0.52974822, -0.30574968, 0.43803819, -0.84552592], 'cam_t_m2c': [161.68945982, -113.74032768, 1112.83112737], 'px_count_all': 1127, 'px_count_valid': 1105, 'px_count_visib': 225, 'visib_fract': 0.19964507542147295, 'cam_K': [572.4114, 0.0, 325.2611, 0.0, 573.57043, 242.04899, 0.0, 0.0, 1.0], 'depth_scale': 1.0, 'model_path': './models/obj_000001.ply', 'model_info': {'diameter': 102.099, 'min_x': -37.9343, 'min_y': -38.7996, 'min_z': -45.8845, 'size_x': 75.8686, 'size_y': 77.5992, 'size_z': 91.769}, 'mask_sam': {'counts': [23703, 4, 473, 8, 468, 14, 462, 19, 458, 23, 444, 1, 8, 29, 440, 41, 438, 43, 436, 46, 433, 49, 430, 51, 427, 54, 424, 57, 420, 59, 419, 60, 418, 59, 417, 42, 6, 12, 418, 42, 436, 42, 436, 43, 437, 42, 438, 41, 440, 39, 442, 34, 447, 30, 452, 22, 459, 15, 467, 8, 270575], 'size': [480, 640]}}, {'scene_id': '000002', 'obj_name': 'can', 'obj_id': 5, 'bbox_obj': [376, 226, 60, 91], 'bbox_visib': [376, 226, 60, 91], 'img_name': './test/000002/rgb/000003.png', 'cam_R_m2c': [0.94893088, 0.30725587, -0.07208124, 0.24200515, -0.85502122, -0.45872652, -0.20257109, 0.41784038, -0.88568011], 'cam_t_m2c': [134.36598053, 45.77287271, 964.78389285], 'px_count_all': 4330, 'px_count_valid': 4283, 'px_count_visib': 4165, 'visib_fract': 0.9618937644341802, 'cam_K': [572.4114, 0.0, 325.2611, 0.0, 573.57043, 242.04899, 0.0, 0.0, 1.0], 'depth_scale': 1.0, 'model_path': './models/obj_000005.ply', 'model_info': {'diameter': 201.404, 'min_x': -50.3958, 'min_y': -90.8979, 'min_z': -96.867, 'size_x': 100.792, 'size_y': 181.796, 'size_z': 193.734}, 'mask_sam': {'counts': [180758, 16, 451, 30, 441, 42, 3, 8, 423, 58, 417, 64, 412, 69, 408, 73, 405, 76, 402, 79, 400, 80, 399, 81, 399, 82, 397, 83, 396, 84, 396, 84, 396, 84, 395, 86, 394, 86, 393, 87, 393, 86, 394, 86, 394, 85, 395, 84, 396, 84, 396, 82, 398, 81, 399, 81, 399, 80, 400, 80, 400, 80, 400, 80, 401, 79, 401, 79, 401, 79, 401, 79, 402, 77, 402, 78, 402, 78, 401, 79, 399, 80, 399, 81, 399, 80, 400, 79, 401, 79, 401, 78, 402, 78, 403, 5, 1, 70, 411, 68, 414, 64, 416, 63, 418, 61, 420, 58, 423, 55, 426, 51, 430, 45, 436, 36, 446, 31, 450, 28, 457, 20, 467, 10, 98132], 'size': [480, 640]}}, {'scene_id': '000002', 'obj_name': 'cat', 'obj_id': 6, 'bbox_obj': [346, 73, 65, 50], 'bbox_visib': [346, 73, 65, 50], 'img_name': './test/000002/rgb/000003.png', 'cam_R_m2c': [0.29703922, -0.93721834, -0.18306752, -0.93800115, -0.25040691, -0.23999963, 0.1790886, 0.24300114, -0.95341102], 'cam_t_m2c': [115.27539864, -313.64749189, 1219.611809], 'px_count_all': 1646, 'px_count_valid': 1646, 'px_count_visib': 1636, 'visib_fract': 0.9939246658566221, 'cam_K': [572.4114, 0.0, 325.2611, 0.0, 573.57043, 242.04899, 0.0, 0.0, 1.0], 'depth_scale': 1.0, 'model_path': './models/obj_000006.ply', 'model_info': {'diameter': 154.546, 'min_x': -33.5054, 'min_y': -63.8165, 'min_z': -58.7283, 'size_x': 67.0107, 'size_y': 127.633, 'size_z': 117.457}, 'mask_sam': {'counts': [166650, 4, 475, 6, 474, 7, 472, 9, 471, 9, 470, 11, 468, 12, 467, 14, 464, 16, 462, 19, 459, 21, 458, 23, 457, 24, 455, 25, 454, 27, 453, 28, 451, 30, 450, 31, 1, 7, 440, 41, 439, 42, 437, 43, 437, 44, 435, 44, 436, 44, 435, 45, 435, 45, 435, 45, 436, 43, 438, 42, 439, 41, 441, 39, 445, 35, 445, 34, 447, 33, 449, 30, 452, 28, 454, 26, 456, 24, 457, 22, 459, 21, 459, 21, 459, 22, 458, 23, 457, 25, 455, 29, 452, 29, 451, 30, 450, 30, 450, 31, 449, 31, 450, 30, 450, 30, 450, 29, 451, 29, 451, 28, 452, 27, 452, 27, 454, 24, 456, 14, 467, 13, 469, 10, 473, 5, 111256], 'size': [480, 640]}}, {'scene_id': '000002', 'obj_name': 'driller', 'obj_id': 8, 'bbox_obj': [342, 126, 79, 116], 'bbox_visib': [342, 126, 79, 116], 'img_name': './test/000002/rgb/000003.png', 'cam_R_m2c': [0.4322479, 0.90168944, -0.04564078, 0.78623622, -0.40077365, -0.47233169, -0.44376608, 0.16802271, -0.88134225], 'cam_t_m2c': [102.11878127, -88.97942407, 1033.7719224], 'px_count_all': 5255, 'px_count_valid': 5180, 'px_count_visib': 5107, 'visib_fract': 0.971836346336822, 'cam_K': [572.4114, 0.0, 325.2611, 0.0, 573.57043, 242.04899, 0.0, 0.0, 1.0], 'depth_scale': 1.0, 'model_path': './models/obj_000008.ply', 'model_info': {'diameter': 261.472, 'min_x': -114.738, 'min_y': -37.7357, 'min_z': -104.001, 'size_x': 229.476, 'size_y': 75.4714, 'size_z': 208.002}, 'mask_sam': {'counts': [165740, 4, 474, 8, 471, 11, 467, 15, 464, 19, 459, 23, 456, 26, 454, 27, 453, 28, 451, 31, 449, 32, 447, 35, 445, 36, 444, 37, 442, 40, 440, 42, 438, 43, 437, 45, 435, 46, 434, 47, 433, 50, 430, 53, 427, 56, 424, 57, 424, 58, 422, 60, 421, 59, 422, 59, 422, 59, 422, 60, 422, 58, 423, 58, 422, 59, 421, 60, 421, 59, 422, 59, 422, 58, 423, 58, 423, 57, 425, 56, 426, 55, 426, 55, 427, 54, 427, 54, 427, 53, 429, 52, 429, 52, 429, 52, 429, 52, 429, 52, 429, 52, 429, 52, 429, 52, 428, 53, 428, 53, 428, 53, 429, 52, 431, 50, 431, 50, 431, 49, 433, 48, 434, 46, 435, 46, 436, 44, 437, 43, 439, 41, 443, 37, 446, 34, 448, 32, 450, 29, 453, 27, 455, 25, 456, 23, 460, 20, 462, 16, 466, 13, 470, 8, 104908], 'size': [480, 640]}}, {'scene_id': '000002', 'obj_name': 'duck', 'obj_id': 9, 'bbox_obj': [336, 302, 58, 44], 'bbox_visib': [336, 302, 58, 44], 'img_name': './test/000002/rgb/000003.png', 'cam_R_m2c': [-0.97252357, -0.22470979, -0.06116191, -0.17436893, 0.87669435, -0.44837068, 0.15437147, -0.42537857, -0.89177123], 'cam_t_m2c': [69.12369034, 133.83815547, 984.19986424], 'px_count_all': 2020, 'px_count_valid': 2017, 'px_count_visib': 1940, 'visib_fract': 0.9603960396039604, 'cam_K': [572.4114, 0.0, 325.2611, 0.0, 573.57043, 242.04899, 0.0, 0.0, 1.0], 'depth_scale': 1.0, 'model_path': './models/obj_000009.ply', 'model_info': {'diameter': 108.999, 'min_x': -52.2146, 'min_y': -38.7038, 'min_z': -42.8485, 'size_x': 104.429, 'size_y': 77.4076, 'size_z': 85.697}, 'mask_sam': {'counts': [162081, 10, 467, 15, 458, 24, 454, 27, 452, 29, 451, 30, 449, 32, 448, 32, 448, 33, 447, 34, 446, 34, 446, 35, 445, 36, 445, 35, 444, 37, 443, 37, 442, 39, 440, 40, 439, 42, 438, 42, 437, 43, 437, 43, 437, 44, 436, 44, 436, 44, 436, 44, 435, 45, 436, 44, 436, 44, 436, 44, 436, 44, 437, 43, 437, 43, 438, 42, 438, 41, 439, 41, 440, 40, 440, 40, 441, 39, 441, 39, 442, 37, 445, 35, 446, 34, 447, 32, 449, 31, 450, 30, 451, 28, 452, 28, 453, 26, 454, 26, 454, 25, 455, 24, 457, 22, 458, 21, 459, 19, 462, 17, 464, 15, 466, 11, 117749], 'size': [480, 640]}}, {'scene_id': '000002', 'obj_name': 'eggbox', 'obj_id': 10, 'bbox_obj': [488, 130, 58, 67], 'bbox_visib': [489, 147, 57, 50], 'img_name': './test/000002/rgb/000003.png', 'cam_R_m2c': [-0.01490196, 0.99987889, 0.00447346, 0.88840196, 0.01529312, -0.45881469, -0.45882761, -0.0028639, -0.88852059], 'cam_t_m2c': [383.28729637, -157.9811008, 1147.98292114], 'px_count_all': 3400, 'px_count_valid': 3364, 'px_count_visib': 1723, 'visib_fract': 0.5067647058823529, 'cam_K': [572.4114, 0.0, 325.2611, 0.0, 573.57043, 242.04899, 0.0, 0.0, 1.0], 'depth_scale': 1.0, 'model_path': './models/obj_000010.ply', 'model_info': {'diameter': 164.628, 'min_x': -75.0923, 'min_y': -53.5375, 'min_z': -34.6207, 'size_x': 150.185, 'size_y': 107.075, 'size_z': 69.2414, 'symmetries_discrete': [[-0.999964, -0.00333777, -0.0077452, 0.232611, 0.00321462, -0.999869, 0.0158593, 0.694388, -0.00779712, 0.0158338, 0.999844, -0.0792063, 0, 0, 0, 1]]}, 'mask_sam': {'counts': [284191, 7, 472, 22, 457, 25, 454, 26, 454, 27, 452, 28, 451, 30, 449, 31, 449, 31, 448, 33, 447, 33, 446, 35, 445, 35, 444, 36, 444, 37, 443, 37, 444, 37, 443, 37, 444, 37, 443, 37, 444, 36, 445, 36, 445, 35, 445, 36, 445, 35, 446, 34, 446, 35, 446, 34, 446, 41, 440, 41, 440, 40, 440, 41, 440, 40, 440, 41, 440, 40, 441, 39, 441, 40, 441, 39, 441, 40, 441, 39, 441, 39, 441, 39, 442, 38, 442, 37, 444, 36, 444, 35, 446, 34, 446, 34, 406], 'size': [480, 640]}}, {'scene_id': '000002', 'obj_name': 'glue', 'obj_id': 11, 'bbox_obj': [302, 136, 38, 64], 'bbox_visib': [302, 136, 38, 64], 'img_name': './test/000002/rgb/000003.png', 'cam_R_m2c': [0.23897695, 0.97089011, -0.02381454, 0.83098555, -0.21712037, -0.51239421, -0.5025906, 0.10264193, -0.85851171], 'cam_t_m2c': [-7.72225221, -143.92245167, 1100.75075443], 'px_count_all': 1708, 'px_count_valid': 1668, 'px_count_visib': 1361, 'visib_fract': 0.7968384074941453, 'cam_K': [572.4114, 0.0, 325.2611, 0.0, 573.57043, 242.04899, 0.0, 0.0, 1.0], 'depth_scale': 1.0, 'model_path': './models/obj_000011.ply', 'model_info': {'diameter': 175.889, 'min_x': -18.3605, 'min_y': -38.933, 'min_z': -86.4079, 'size_x': 36.7211, 'size_y': 77.866, 'size_z': 172.816, 'symmetries_discrete': [[-0.999633, 0.026679, 0.00479336, -0.262139, -0.0266744, -0.999644, 0.00100504, -0.197966, 0.00481847, 0.000876815, 0.999988, 0.0321652, 0, 0, 0, 1]]}, 'mask_sam': {'counts': [267416, 11, 467, 14, 464, 16, 463, 18, 461, 20, 459, 21, 459, 22, 458, 22, 457, 24, 455, 25, 454, 26, 454, 26, 454, 27, 452, 28, 453, 27, 453, 27, 453, 28, 453, 27, 453, 27, 453, 27, 454, 27, 453, 27, 454, 26, 454, 26, 454, 27, 454, 27, 453, 27, 454, 27, 453, 27, 454, 26, 454, 27, 453, 27, 454, 27, 453, 27, 453, 28, 452, 29, 451, 29, 452, 28, 452, 29, 452, 28, 452, 28, 453, 27, 453, 28, 453, 27, 453, 27, 454, 26, 454, 27, 453, 27, 454, 26, 454, 26, 455, 25, 455, 25, 455, 24, 457, 23, 457, 22, 459, 20, 460, 19, 461, 18, 463, 17, 463, 17, 463, 17, 464, 17, 463, 4, 3, 10, 471, 9, 471, 10, 471, 9, 471, 9, 472, 8, 472, 8, 472, 8, 473, 7, 473, 8, 473, 7, 474, 6, 474, 6, 474, 6, 474, 6, 474, 7, 473, 7, 473, 7, 473, 8, 472, 8, 472, 8, 395], 'size': [480, 640]}}, {'scene_id': '000002', 'obj_name': 'holepuncher', 'obj_id': 12, 'bbox_obj': [254, 281, 72, 70], 'bbox_visib': [254, 281, 72, 70], 'img_name': './test/000002/rgb/000003.png', 'cam_R_m2c': [-0.470049, 0.881505, -0.0454911, 0.805976, 0.407628, -0.429296, -0.359872, -0.238445, -0.902048], 'cam_t_m2c': [-59.3367, 120.607, 1000.97], 'px_count_all': 3361, 'px_count_valid': 3311, 'px_count_visib': 3241, 'visib_fract': 0.9642963403748884, 'cam_K': [572.4114, 0.0, 325.2611, 0.0, 573.57043, 242.04899, 0.0, 0.0, 1.0], 'depth_scale': 1.0, 'model_path': './models/obj_000012.ply', 'model_info': {'diameter': 145.543, 'min_x': -50.4439, 'min_y': -54.2485, 'min_z': -45.4, 'size_x': 100.888, 'size_y': 108.497, 'size_z': 90.8}, 'mask_sam': {'counts': [121269, 6, 473, 8, 471, 10, 468, 13, 466, 15, 7, 6, 451, 17, 4, 10, 448, 33, 446, 34, 445, 36, 442, 39, 440, 40, 438, 43, 436, 45, 433, 47, 432, 49, 429, 51, 428, 53, 426, 54, 425, 55, 424, 57, 423, 57, 422, 59, 420, 60, 420, 61, 418, 62, 419, 62, 418, 62, 418, 62, 419, 62, 418, 62, 418, 63, 418, 62, 418, 63, 418, 62, 418, 63, 417, 63, 418, 63, 417, 63, 417, 64, 417, 63, 417, 63, 417, 63, 418, 63, 417, 64, 417, 63, 417, 63, 418, 62, 418, 62, 419, 61, 419, 61, 419, 60, 421, 59, 421, 58, 423, 56, 424, 54, 427, 52, 428, 50, 431, 47, 433, 45, 435, 44, 437, 41, 439, 40, 440, 38, 443, 34, 446, 32, 448, 29, 452, 26, 454, 24, 457, 21, 459, 20, 461, 17, 464, 15, 466, 11, 151366], 'size': [480, 640]}}]\n"
     ]
    }
   ],
   "source": [
    "print(data_gt[img_id][])"
   ]
  },
  {
   "cell_type": "code",
   "execution_count": 4,
   "metadata": {},
   "outputs": [
    {
     "name": "stdout",
     "output_type": "stream",
     "text": [
      "cuda\n"
     ]
    }
   ],
   "source": [
    "print(pose_estimator.device)"
   ]
  }
 ],
 "metadata": {
  "kernelspec": {
   "display_name": "zs6d",
   "language": "python",
   "name": "python3"
  },
  "language_info": {
   "codemirror_mode": {
    "name": "ipython",
    "version": 3
   },
   "file_extension": ".py",
   "mimetype": "text/x-python",
   "name": "python",
   "nbconvert_exporter": "python",
   "pygments_lexer": "ipython3",
   "version": "3.9.18"
  }
 },
 "nbformat": 4,
 "nbformat_minor": 2
}
